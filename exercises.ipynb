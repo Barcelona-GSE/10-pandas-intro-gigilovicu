{
 "cells": [
  {
   "cell_type": "code",
   "execution_count": 21,
   "source": [
    "# 1)\n",
    "# Comma Separate Values (CSV) is common\n",
    "# file format to store rectangular data.\n",
    "\n",
    "# Pandas can be used to read csv data directly\n",
    "# into a DataFrame object! Use the \"read_csv\"\n",
    "# function on the pandas module to read the \n",
    "# file \"covid.csv\" into a DataFrame.\n",
    "\n",
    "import pandas as pd\n",
    "\n",
    "covid = pd.read_csv('covid.csv')\n",
    "covid.head()"
   ],
   "outputs": [
    {
     "output_type": "execute_result",
     "data": {
      "text/html": [
       "<div>\n",
       "<style scoped>\n",
       "    .dataframe tbody tr th:only-of-type {\n",
       "        vertical-align: middle;\n",
       "    }\n",
       "\n",
       "    .dataframe tbody tr th {\n",
       "        vertical-align: top;\n",
       "    }\n",
       "\n",
       "    .dataframe thead th {\n",
       "        text-align: right;\n",
       "    }\n",
       "</style>\n",
       "<table border=\"1\" class=\"dataframe\">\n",
       "  <thead>\n",
       "    <tr style=\"text-align: right;\">\n",
       "      <th></th>\n",
       "      <th>Country</th>\n",
       "      <th>Confirmed</th>\n",
       "      <th>Deaths</th>\n",
       "      <th>Recovered</th>\n",
       "      <th>Active</th>\n",
       "    </tr>\n",
       "  </thead>\n",
       "  <tbody>\n",
       "    <tr>\n",
       "      <th>0</th>\n",
       "      <td>Afghanistan</td>\n",
       "      <td>120</td>\n",
       "      <td>4</td>\n",
       "      <td>2</td>\n",
       "      <td>114</td>\n",
       "    </tr>\n",
       "    <tr>\n",
       "      <th>1</th>\n",
       "      <td>Albania</td>\n",
       "      <td>212</td>\n",
       "      <td>10</td>\n",
       "      <td>33</td>\n",
       "      <td>169</td>\n",
       "    </tr>\n",
       "    <tr>\n",
       "      <th>2</th>\n",
       "      <td>Algeria</td>\n",
       "      <td>511</td>\n",
       "      <td>31</td>\n",
       "      <td>31</td>\n",
       "      <td>449</td>\n",
       "    </tr>\n",
       "    <tr>\n",
       "      <th>3</th>\n",
       "      <td>Andorra</td>\n",
       "      <td>334</td>\n",
       "      <td>6</td>\n",
       "      <td>1</td>\n",
       "      <td>327</td>\n",
       "    </tr>\n",
       "    <tr>\n",
       "      <th>4</th>\n",
       "      <td>Angola</td>\n",
       "      <td>7</td>\n",
       "      <td>2</td>\n",
       "      <td>0</td>\n",
       "      <td>5</td>\n",
       "    </tr>\n",
       "  </tbody>\n",
       "</table>\n",
       "</div>"
      ],
      "text/plain": [
       "       Country  Confirmed  Deaths  Recovered  Active\n",
       "0  Afghanistan        120       4          2     114\n",
       "1      Albania        212      10         33     169\n",
       "2      Algeria        511      31         31     449\n",
       "3      Andorra        334       6          1     327\n",
       "4       Angola          7       2          0       5"
      ]
     },
     "metadata": {},
     "execution_count": 21
    }
   ],
   "metadata": {
    "collapsed": false
   }
  },
  {
   "cell_type": "code",
   "execution_count": 23,
   "source": [
    "# 2)\n",
    "# Get the top 3 countries with the most deaths.\n",
    "# HINT: you can use ranges in .iloc, just like\n",
    "# in Python lists.\n",
    "covid.sort_values('Deaths', ascending = False).head(3)\n"
   ],
   "outputs": [
    {
     "output_type": "execute_result",
     "data": {
      "text/html": [
       "<div>\n",
       "<style scoped>\n",
       "    .dataframe tbody tr th:only-of-type {\n",
       "        vertical-align: middle;\n",
       "    }\n",
       "\n",
       "    .dataframe tbody tr th {\n",
       "        vertical-align: top;\n",
       "    }\n",
       "\n",
       "    .dataframe thead th {\n",
       "        text-align: right;\n",
       "    }\n",
       "</style>\n",
       "<table border=\"1\" class=\"dataframe\">\n",
       "  <thead>\n",
       "    <tr style=\"text-align: right;\">\n",
       "      <th></th>\n",
       "      <th>Country</th>\n",
       "      <th>Confirmed</th>\n",
       "      <th>Deaths</th>\n",
       "      <th>Recovered</th>\n",
       "      <th>Active</th>\n",
       "    </tr>\n",
       "  </thead>\n",
       "  <tbody>\n",
       "    <tr>\n",
       "      <th>82</th>\n",
       "      <td>Italy</td>\n",
       "      <td>97689</td>\n",
       "      <td>10779</td>\n",
       "      <td>13030</td>\n",
       "      <td>73880</td>\n",
       "    </tr>\n",
       "    <tr>\n",
       "      <th>150</th>\n",
       "      <td>Spain</td>\n",
       "      <td>80110</td>\n",
       "      <td>6803</td>\n",
       "      <td>14709</td>\n",
       "      <td>58598</td>\n",
       "    </tr>\n",
       "    <tr>\n",
       "      <th>34</th>\n",
       "      <td>China</td>\n",
       "      <td>82122</td>\n",
       "      <td>3304</td>\n",
       "      <td>75582</td>\n",
       "      <td>3236</td>\n",
       "    </tr>\n",
       "  </tbody>\n",
       "</table>\n",
       "</div>"
      ],
      "text/plain": [
       "    Country  Confirmed  Deaths  Recovered  Active\n",
       "82    Italy      97689   10779      13030   73880\n",
       "150   Spain      80110    6803      14709   58598\n",
       "34    China      82122    3304      75582    3236"
      ]
     },
     "metadata": {},
     "execution_count": 23
    }
   ],
   "metadata": {
    "collapsed": false
   }
  },
  {
   "cell_type": "code",
   "execution_count": 9,
   "source": [
    "# 3)\n",
    "# How many deaths does Spain have reported\n",
    "# in this dataset?\n",
    "covid[covid.Country == 'Spain'].Deaths\n"
   ],
   "outputs": [
    {
     "output_type": "execute_result",
     "data": {
      "text/plain": [
       "150    6803\n",
       "Name: Deaths, dtype: int64"
      ]
     },
     "metadata": {},
     "execution_count": 9
    }
   ],
   "metadata": {
    "collapsed": false
   }
  },
  {
   "cell_type": "code",
   "execution_count": 24,
   "source": [
    "# 4)\n",
    "# Get the country with the 10th highest number\n",
    "# of confirmed cases.\n",
    "covid.sort_values('Confirmed', ascending = False).iloc[10]\n"
   ],
   "outputs": [
    {
     "output_type": "execute_result",
     "data": {
      "text/plain": [
       "Country      Belgium\n",
       "Confirmed      10836\n",
       "Deaths           431\n",
       "Recovered       1359\n",
       "Active          9046\n",
       "Name: 16, dtype: object"
      ]
     },
     "metadata": {},
     "execution_count": 24
    }
   ],
   "metadata": {
    "collapsed": false
   }
  },
  {
   "cell_type": "code",
   "execution_count": 26,
   "source": [
    "# 5)\n",
    "# Filter the DataFrame to only contain rows\n",
    "# where there are more than 100 confirmed \n",
    "# cases but less than 1000 confirmed cases: \n",
    "covid[(covid.Confirmed > 100) & (covid.Confirmed < 1000)]\n"
   ],
   "outputs": [
    {
     "output_type": "execute_result",
     "data": {
      "text/html": [
       "<div>\n",
       "<style scoped>\n",
       "    .dataframe tbody tr th:only-of-type {\n",
       "        vertical-align: middle;\n",
       "    }\n",
       "\n",
       "    .dataframe tbody tr th {\n",
       "        vertical-align: top;\n",
       "    }\n",
       "\n",
       "    .dataframe thead th {\n",
       "        text-align: right;\n",
       "    }\n",
       "</style>\n",
       "<table border=\"1\" class=\"dataframe\">\n",
       "  <thead>\n",
       "    <tr style=\"text-align: right;\">\n",
       "      <th></th>\n",
       "      <th>Country</th>\n",
       "      <th>Confirmed</th>\n",
       "      <th>Deaths</th>\n",
       "      <th>Recovered</th>\n",
       "      <th>Active</th>\n",
       "    </tr>\n",
       "  </thead>\n",
       "  <tbody>\n",
       "    <tr>\n",
       "      <th>0</th>\n",
       "      <td>Afghanistan</td>\n",
       "      <td>120</td>\n",
       "      <td>4</td>\n",
       "      <td>2</td>\n",
       "      <td>114</td>\n",
       "    </tr>\n",
       "    <tr>\n",
       "      <th>1</th>\n",
       "      <td>Albania</td>\n",
       "      <td>212</td>\n",
       "      <td>10</td>\n",
       "      <td>33</td>\n",
       "      <td>169</td>\n",
       "    </tr>\n",
       "    <tr>\n",
       "      <th>2</th>\n",
       "      <td>Algeria</td>\n",
       "      <td>511</td>\n",
       "      <td>31</td>\n",
       "      <td>31</td>\n",
       "      <td>449</td>\n",
       "    </tr>\n",
       "    <tr>\n",
       "      <th>3</th>\n",
       "      <td>Andorra</td>\n",
       "      <td>334</td>\n",
       "      <td>6</td>\n",
       "      <td>1</td>\n",
       "      <td>327</td>\n",
       "    </tr>\n",
       "    <tr>\n",
       "      <th>6</th>\n",
       "      <td>Argentina</td>\n",
       "      <td>745</td>\n",
       "      <td>19</td>\n",
       "      <td>72</td>\n",
       "      <td>654</td>\n",
       "    </tr>\n",
       "    <tr>\n",
       "      <th>...</th>\n",
       "      <td>...</td>\n",
       "      <td>...</td>\n",
       "      <td>...</td>\n",
       "      <td>...</td>\n",
       "      <td>...</td>\n",
       "    </tr>\n",
       "    <tr>\n",
       "      <th>170</th>\n",
       "      <td>Uruguay</td>\n",
       "      <td>304</td>\n",
       "      <td>1</td>\n",
       "      <td>0</td>\n",
       "      <td>303</td>\n",
       "    </tr>\n",
       "    <tr>\n",
       "      <th>171</th>\n",
       "      <td>Uzbekistan</td>\n",
       "      <td>144</td>\n",
       "      <td>2</td>\n",
       "      <td>7</td>\n",
       "      <td>135</td>\n",
       "    </tr>\n",
       "    <tr>\n",
       "      <th>172</th>\n",
       "      <td>Venezuela</td>\n",
       "      <td>119</td>\n",
       "      <td>2</td>\n",
       "      <td>39</td>\n",
       "      <td>78</td>\n",
       "    </tr>\n",
       "    <tr>\n",
       "      <th>173</th>\n",
       "      <td>Vietnam</td>\n",
       "      <td>188</td>\n",
       "      <td>0</td>\n",
       "      <td>25</td>\n",
       "      <td>163</td>\n",
       "    </tr>\n",
       "    <tr>\n",
       "      <th>174</th>\n",
       "      <td>West Bank and Gaza</td>\n",
       "      <td>109</td>\n",
       "      <td>1</td>\n",
       "      <td>18</td>\n",
       "      <td>90</td>\n",
       "    </tr>\n",
       "  </tbody>\n",
       "</table>\n",
       "<p>62 rows × 5 columns</p>\n",
       "</div>"
      ],
      "text/plain": [
       "                Country  Confirmed  Deaths  Recovered  Active\n",
       "0           Afghanistan        120       4          2     114\n",
       "1               Albania        212      10         33     169\n",
       "2               Algeria        511      31         31     449\n",
       "3               Andorra        334       6          1     327\n",
       "6             Argentina        745      19         72     654\n",
       "..                  ...        ...     ...        ...     ...\n",
       "170             Uruguay        304       1          0     303\n",
       "171          Uzbekistan        144       2          7     135\n",
       "172           Venezuela        119       2         39      78\n",
       "173             Vietnam        188       0         25     163\n",
       "174  West Bank and Gaza        109       1         18      90\n",
       "\n",
       "[62 rows x 5 columns]"
      ]
     },
     "metadata": {},
     "execution_count": 26
    }
   ],
   "metadata": {
    "collapsed": false
   }
  },
  {
   "cell_type": "code",
   "execution_count": 27,
   "source": [
    "# 6)\n",
    "# Return a Series of country names where\n",
    "# where there are more reported Deaths than \n",
    "# people Recovered\n",
    "\n",
    "covid[covid.Deaths > covid.Recovered].Country"
   ],
   "outputs": [
    {
     "output_type": "execute_result",
     "data": {
      "text/plain": [
       "0              Afghanistan\n",
       "3                  Andorra\n",
       "4                   Angola\n",
       "20                 Bolivia\n",
       "22                  Brazil\n",
       "27              Cabo Verde\n",
       "29                Cameroon\n",
       "37        Congo (Kinshasa)\n",
       "43                 Czechia\n",
       "48      Dominican Republic\n",
       "49                 Ecuador\n",
       "58                 Finland\n",
       "60                   Gabon\n",
       "61                  Gambia\n",
       "64                   Ghana\n",
       "70                  Guyana\n",
       "77               Indonesia\n",
       "80                 Ireland\n",
       "98               Lithuania\n",
       "104                   Mali\n",
       "107              Mauritius\n",
       "108                 Mexico\n",
       "112             Montenegro\n",
       "113                Morocco\n",
       "117            Netherlands\n",
       "119              Nicaragua\n",
       "120                  Niger\n",
       "122        North Macedonia\n",
       "123                 Norway\n",
       "126                 Panama\n",
       "128               Paraguay\n",
       "129                   Peru\n",
       "130            Philippines\n",
       "131                 Poland\n",
       "132               Portugal\n",
       "140             San Marino\n",
       "143                 Serbia\n",
       "147               Slovenia\n",
       "152                  Sudan\n",
       "154                 Sweden\n",
       "156                  Syria\n",
       "162    Trinidad and Tobago\n",
       "163                Tunisia\n",
       "164                 Turkey\n",
       "167                Ukraine\n",
       "169         United Kingdom\n",
       "170                Uruguay\n",
       "176               Zimbabwe\n",
       "Name: Country, dtype: object"
      ]
     },
     "metadata": {},
     "execution_count": 27
    }
   ],
   "metadata": {
    "collapsed": false
   }
  },
  {
   "cell_type": "code",
   "execution_count": 32,
   "source": [
    "# 7)\n",
    "# Series objects have a method called `.isin()`\n",
    "# which takes one parameter: a list or Series\n",
    "# and returns a boolean series, indicating \n",
    "# whether or not the value is in the list/Series.\n",
    "\n",
    "# Get the total number of deaths (the sum)\n",
    "# in the all following countries combined:\n",
    "\n",
    "countries = ['Spain', 'Germany', 'England', 'Portugal', 'France']\n",
    "covid[covid.Country.isin(countries)].Deaths.sum()\n"
   ],
   "outputs": [
    {
     "output_type": "execute_result",
     "data": {
      "text/plain": [
       "10066"
      ]
     },
     "metadata": {},
     "execution_count": 32
    }
   ],
   "metadata": {
    "collapsed": false
   }
  },
  {
   "cell_type": "code",
   "execution_count": 33,
   "source": [
    "# 8)\n",
    "# Get the mean number of active cases for \n",
    "# countries with deaths < 100\n",
    "\n",
    "covid[covid.Deaths < 100].Active.mean()"
   ],
   "outputs": [
    {
     "output_type": "execute_result",
     "data": {
      "text/plain": [
       "469.59375"
      ]
     },
     "metadata": {},
     "execution_count": 33
    }
   ],
   "metadata": {
    "collapsed": false
   }
  },
  {
   "cell_type": "code",
   "execution_count": 37,
   "source": [
    "# 9)\n",
    "# Filter the dataframe to only include\n",
    "# countries which have more than the mean\n",
    "# number of deaths (i.e. compute the average\n",
    "# death toll across all the countries,\n",
    "# then filter the dataframe to only include\n",
    "# countries with more deaths than that).\n",
    "\n",
    "\n",
    "covid[covid.Deaths > covid.Deaths.mean()]\n"
   ],
   "outputs": [
    {
     "output_type": "execute_result",
     "data": {
      "text/html": [
       "<div>\n",
       "<style scoped>\n",
       "    .dataframe tbody tr th:only-of-type {\n",
       "        vertical-align: middle;\n",
       "    }\n",
       "\n",
       "    .dataframe tbody tr th {\n",
       "        vertical-align: top;\n",
       "    }\n",
       "\n",
       "    .dataframe thead th {\n",
       "        text-align: right;\n",
       "    }\n",
       "</style>\n",
       "<table border=\"1\" class=\"dataframe\">\n",
       "  <thead>\n",
       "    <tr style=\"text-align: right;\">\n",
       "      <th></th>\n",
       "      <th>Country</th>\n",
       "      <th>Confirmed</th>\n",
       "      <th>Deaths</th>\n",
       "      <th>Recovered</th>\n",
       "      <th>Active</th>\n",
       "    </tr>\n",
       "  </thead>\n",
       "  <tbody>\n",
       "    <tr>\n",
       "      <th>16</th>\n",
       "      <td>Belgium</td>\n",
       "      <td>10836</td>\n",
       "      <td>431</td>\n",
       "      <td>1359</td>\n",
       "      <td>9046</td>\n",
       "    </tr>\n",
       "    <tr>\n",
       "      <th>34</th>\n",
       "      <td>China</td>\n",
       "      <td>82122</td>\n",
       "      <td>3304</td>\n",
       "      <td>75582</td>\n",
       "      <td>3236</td>\n",
       "    </tr>\n",
       "    <tr>\n",
       "      <th>59</th>\n",
       "      <td>France</td>\n",
       "      <td>40708</td>\n",
       "      <td>2611</td>\n",
       "      <td>7226</td>\n",
       "      <td>30871</td>\n",
       "    </tr>\n",
       "    <tr>\n",
       "      <th>63</th>\n",
       "      <td>Germany</td>\n",
       "      <td>62095</td>\n",
       "      <td>533</td>\n",
       "      <td>9211</td>\n",
       "      <td>52351</td>\n",
       "    </tr>\n",
       "    <tr>\n",
       "      <th>78</th>\n",
       "      <td>Iran</td>\n",
       "      <td>38309</td>\n",
       "      <td>2640</td>\n",
       "      <td>12391</td>\n",
       "      <td>23278</td>\n",
       "    </tr>\n",
       "    <tr>\n",
       "      <th>82</th>\n",
       "      <td>Italy</td>\n",
       "      <td>97689</td>\n",
       "      <td>10779</td>\n",
       "      <td>13030</td>\n",
       "      <td>73880</td>\n",
       "    </tr>\n",
       "    <tr>\n",
       "      <th>117</th>\n",
       "      <td>Netherlands</td>\n",
       "      <td>10930</td>\n",
       "      <td>772</td>\n",
       "      <td>253</td>\n",
       "      <td>9905</td>\n",
       "    </tr>\n",
       "    <tr>\n",
       "      <th>150</th>\n",
       "      <td>Spain</td>\n",
       "      <td>80110</td>\n",
       "      <td>6803</td>\n",
       "      <td>14709</td>\n",
       "      <td>58598</td>\n",
       "    </tr>\n",
       "    <tr>\n",
       "      <th>155</th>\n",
       "      <td>Switzerland</td>\n",
       "      <td>14829</td>\n",
       "      <td>300</td>\n",
       "      <td>1595</td>\n",
       "      <td>12934</td>\n",
       "    </tr>\n",
       "    <tr>\n",
       "      <th>165</th>\n",
       "      <td>US</td>\n",
       "      <td>140886</td>\n",
       "      <td>2467</td>\n",
       "      <td>2665</td>\n",
       "      <td>0</td>\n",
       "    </tr>\n",
       "    <tr>\n",
       "      <th>169</th>\n",
       "      <td>United Kingdom</td>\n",
       "      <td>19780</td>\n",
       "      <td>1231</td>\n",
       "      <td>151</td>\n",
       "      <td>18398</td>\n",
       "    </tr>\n",
       "  </tbody>\n",
       "</table>\n",
       "</div>"
      ],
      "text/plain": [
       "            Country  Confirmed  Deaths  Recovered  Active\n",
       "16          Belgium      10836     431       1359    9046\n",
       "34            China      82122    3304      75582    3236\n",
       "59           France      40708    2611       7226   30871\n",
       "63          Germany      62095     533       9211   52351\n",
       "78             Iran      38309    2640      12391   23278\n",
       "82            Italy      97689   10779      13030   73880\n",
       "117     Netherlands      10930     772        253    9905\n",
       "150           Spain      80110    6803      14709   58598\n",
       "155     Switzerland      14829     300       1595   12934\n",
       "165              US     140886    2467       2665       0\n",
       "169  United Kingdom      19780    1231        151   18398"
      ]
     },
     "metadata": {},
     "execution_count": 37
    }
   ],
   "metadata": {
    "collapsed": false
   }
  }
 ],
 "metadata": {
  "file_extension": ".py",
  "kernelspec": {
   "name": "python3",
   "display_name": "Python 3.9.5 64-bit"
  },
  "language_info": {
   "name": "python",
   "version": "3.9.5",
   "mimetype": "text/x-python",
   "codemirror_mode": {
    "name": "ipython",
    "version": 3
   },
   "pygments_lexer": "ipython3",
   "nbconvert_exporter": "python",
   "file_extension": ".py"
  },
  "mimetype": "text/x-python",
  "name": "exercises.ipynb",
  "npconvert_exporter": "python",
  "pygments_lexer": "ipython3",
  "version": 3,
  "interpreter": {
   "hash": "916dbcbb3f70747c44a77c7bcd40155683ae19c65e1c03b4aa3499c5328201f1"
  }
 },
 "nbformat": 4,
 "nbformat_minor": 2
}